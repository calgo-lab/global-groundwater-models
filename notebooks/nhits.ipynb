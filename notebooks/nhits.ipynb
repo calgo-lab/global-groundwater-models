{
 "cells": [
  {
   "cell_type": "code",
   "execution_count": null,
   "id": "0fe30872",
   "metadata": {},
   "outputs": [],
   "source": [
    "#!pip install \"pandas<2.0.0\"\n",
    "#!pip install \"pytorch-forecasting[mqf2]<1.0.0\"\n",
    "#!pip install numpy matplotlib pyarrow"
   ]
  },
  {
   "cell_type": "code",
   "execution_count": null,
   "id": "b6710858-e085-4ab5-9503-a92784022e38",
   "metadata": {
    "tags": []
   },
   "outputs": [],
   "source": [
    "import os\n",
    "import numpy as np\n",
    "import pandas as pd\n",
    "import pytorch_lightning as pl"
   ]
  },
  {
   "cell_type": "code",
   "execution_count": null,
   "id": "190d1c9a",
   "metadata": {},
   "outputs": [],
   "source": [
    "import warnings\n",
    "\n",
    "warnings.filterwarnings('ignore')"
   ]
  },
  {
   "cell_type": "markdown",
   "id": "26ee3097",
   "metadata": {},
   "source": [
    "## Setup"
   ]
  },
  {
   "cell_type": "code",
   "execution_count": null,
   "id": "0e4d5cd1-a65f-477a-b41d-9e29b4af6a87",
   "metadata": {
    "tags": []
   },
   "outputs": [],
   "source": [
    "BASE_PATH = '/home/carl/projects/gwl_neu'\n",
    "\n",
    "DATA_PATH = os.path.join(BASE_PATH, 'data')\n",
    "MODEL_PATH = os.path.join(BASE_PATH, 'models')\n",
    "RESULT_PATH = os.path.join(BASE_PATH, 'results')\n",
    "\n",
    "LAG = 52  # weeks\n",
    "LEAD = 8  # weeks\n",
    "TRAIN_PERIOD = (pd.Timestamp(1990, 1, 1), pd.Timestamp(2012, 1, 1))\n",
    "TEST_PERIOD = (pd.Timestamp(2012, 1, 1), pd.Timestamp(2016, 1, 1))\n",
    "\n",
    "TIME_IDX = pd.date_range(TRAIN_PERIOD[0], TEST_PERIOD[1], freq='W-SUN', closed=None, name='time').to_frame().reset_index(drop=True)\n",
    "TIME_IDX.index.name = 'time_idx'\n",
    "TIME_IDX = TIME_IDX.reset_index()"
   ]
  },
  {
   "cell_type": "markdown",
   "id": "12cbf322-1fd3-4460-abb4-2a66c8d96e7e",
   "metadata": {},
   "source": [
    "## Data"
   ]
  },
  {
   "cell_type": "markdown",
   "id": "a73000fd-544b-42c7-a8de-28fcd982078f",
   "metadata": {
    "tags": []
   },
   "source": [
    "### load data"
   ]
  },
  {
   "cell_type": "code",
   "execution_count": null,
   "id": "a71a6eab-9c03-4573-815b-d37818f1d077",
   "metadata": {
    "tags": []
   },
   "outputs": [],
   "source": [
    "static_df = pd.read_feather(os.path.join(DATA_PATH, 'static.feather'))\n",
    "df = pd.read_feather(os.path.join(DATA_PATH, 'temporal.feather'))\n",
    "df = df.merge(TIME_IDX, on='time', how='left')\n",
    "df = df.merge(static_df.drop(columns=['y', 'x']), on='proj_id', how='left')\n",
    "\n",
    "# encode day of the year as circular feature\n",
    "df['day_sin'] = np.sin(2*np.pi / 365. * df['time'].dt.dayofyear).astype(np.float32)\n",
    "df['day_cos'] = np.cos(2*np.pi / 365. * df['time'].dt.dayofyear).astype(np.float32)\n",
    "\n",
    "df"
   ]
  },
  {
   "cell_type": "markdown",
   "id": "d68bac1c-cca2-42f6-84dc-8fb8001508a8",
   "metadata": {},
   "source": [
    "### Cross Validation"
   ]
  },
  {
   "cell_type": "code",
   "execution_count": null,
   "id": "dae4c7dc-e2e5-4805-a8b8-b9d9a915c1e6",
   "metadata": {
    "tags": []
   },
   "outputs": [],
   "source": [
    "train_df = df[df['time'].between(*TRAIN_PERIOD)]\n",
    "train_df"
   ]
  },
  {
   "cell_type": "code",
   "execution_count": null,
   "id": "dcb20a84-ca26-47e7-bb28-99ade7775f87",
   "metadata": {
    "tags": []
   },
   "outputs": [],
   "source": [
    "test_df = df[df['time'].between(*TEST_PERIOD)]\n",
    "test_df = test_df[test_df['proj_id'].isin(test_df['proj_id'].value_counts()[lambda x: x>=104].index.tolist())]\n",
    "test_df"
   ]
  },
  {
   "cell_type": "code",
   "execution_count": null,
   "id": "5d54e9c7",
   "metadata": {},
   "outputs": [],
   "source": [
    "short_wells = test_df['proj_id'].value_counts()[lambda x: x<104].index.tolist()\n",
    "short_wells"
   ]
  },
  {
   "cell_type": "markdown",
   "id": "587f2146-6580-47ea-a3c2-c4ac9c9d48b4",
   "metadata": {},
   "source": [
    "### Time Series Data Set"
   ]
  },
  {
   "cell_type": "code",
   "execution_count": null,
   "id": "f7703f77-5485-443c-97ac-037357c000da",
   "metadata": {
    "tags": []
   },
   "outputs": [],
   "source": [
    "from pytorch_forecasting import TimeSeriesDataSet\n",
    "\n",
    "train_ds = TimeSeriesDataSet(\n",
    "    train_df,\n",
    "    group_ids=[\"proj_id\"],\n",
    "    target=\"gwl\",\n",
    "    time_idx=\"time_idx\",\n",
    "    min_encoder_length=LAG,\n",
    "    max_encoder_length=LAG,\n",
    "    min_prediction_length=LEAD,\n",
    "    max_prediction_length=LEAD,\n",
    "    static_reals=[\"elevation\", \"gw_recharge\", \"percolation\", \"lat\", \"lon\"],\n",
    "    static_categoricals=[\"land_cover\", \"rock_type\", \"geochemical_rock_type\", \"cavity_type\", \"permeability\"],\n",
    "    time_varying_unknown_reals=['gwl'],\n",
    "    time_varying_known_reals=['humidity', 'precipitation', 'temperature', 'lai', 'day_sin', 'day_cos'],\n",
    "    add_target_scales=True,\n",
    "    allow_missing_timesteps=True,\n",
    "    categorical_encoders={\n",
    "        \"land_cover\": NaNLabelEncoder(add_nan=True),\n",
    "        \"rock_type\": NaNLabelEncoder(add_nan=True), \n",
    "        \"geochemical_rock_type\": NaNLabelEncoder(add_nan=True), \n",
    "        \"cavity_type\": NaNLabelEncoder(add_nan=True), \n",
    "        \"permeability\": NaNLabelEncoder(add_nan=True),\n",
    "    },\n",
    ")\n",
    "\n",
    "train_ds.save(os.path.join(RESULT_PATH, 'preprocessing', 'train_ds_nhits.pt'))"
   ]
  },
  {
   "cell_type": "code",
   "execution_count": null,
   "id": "7e92f9b7",
   "metadata": {},
   "outputs": [],
   "source": [
    "from pytorch_forecasting import TimeSeriesDataSet\n",
    "\n",
    "train_ds = TimeSeriesDataSet.load(os.path.join(RESULT_PATH, 'preprocessing', 'train_ds_nhits.pt'))"
   ]
  },
  {
   "cell_type": "markdown",
   "id": "9e8eaafe-e984-4f04-8289-96629c032ccb",
   "metadata": {},
   "source": [
    "### Data Loader"
   ]
  },
  {
   "cell_type": "code",
   "execution_count": null,
   "id": "42346725-27b5-4ca7-8464-5e54cb8866c2",
   "metadata": {
    "tags": []
   },
   "outputs": [],
   "source": [
    "train_dataloader = train_ds.to_dataloader(train=True, batch_size=4096, num_workers=8)"
   ]
  },
  {
   "cell_type": "markdown",
   "id": "7fac6f06-3df2-457b-8cfd-ab631dfd2453",
   "metadata": {
    "tags": []
   },
   "source": [
    "## Model"
   ]
  },
  {
   "cell_type": "code",
   "execution_count": null,
   "id": "cd49892e-1025-4690-825a-06563b34e41c",
   "metadata": {
    "tags": []
   },
   "outputs": [],
   "source": [
    "from pytorch_forecasting.models.nhits import NHiTS\n",
    "from pytorch_forecasting.metrics.distributions import MQF2DistributionLoss\n",
    "\n",
    "model = NHiTS.from_dataset(\n",
    "    train_ds,\n",
    "    loss=MQF2DistributionLoss(prediction_length=LEAD),\n",
    ")\n",
    "\n",
    "trainer = pl.Trainer(\n",
    "    max_epochs=10,\n",
    "    accelerator='gpu', \n",
    "    devices=1,\n",
    "    enable_model_summary=True,\n",
    ")\n",
    "trainer.fit(\n",
    "    model,\n",
    "    train_dataloaders=train_dataloader,\n",
    ")"
   ]
  },
  {
   "cell_type": "code",
   "execution_count": null,
   "id": "5fa963c9",
   "metadata": {},
   "outputs": [],
   "source": [
    "from pytorch_forecasting.models.nhits import NHiTS\n",
    "from pytorch_forecasting.metrics.distributions import MQF2DistributionLoss\n",
    "\n",
    "MODEL_NAME = 'nhits.ckpt'\n",
    "\n",
    "model = NHiTS.load_from_checkpoint(os.path.join(MODEL_PATH, MODEL_NAME))"
   ]
  },
  {
   "cell_type": "markdown",
   "id": "50ba6c13-b9c6-4814-aaec-a82efbc9a32c",
   "metadata": {
    "tags": []
   },
   "source": [
    "### Evaluation"
   ]
  },
  {
   "cell_type": "markdown",
   "id": "02403f50-f03e-4e3c-8ca4-e539ed4ad08c",
   "metadata": {
    "tags": []
   },
   "source": [
    "#### predict test data"
   ]
  },
  {
   "cell_type": "code",
   "execution_count": null,
   "id": "a2e8a097-c569-42d3-b3a1-6b4bfe924b19",
   "metadata": {
    "tags": []
   },
   "outputs": [],
   "source": [
    "test_ds = TimeSeriesDataSet.from_dataset(train_ds, test_df)\n",
    "test_dataloader = test_ds.to_dataloader(train=False, batch_size=4096, num_workers=2)\n",
    "raw_predictions, index = model.predict(test_dataloader, mode=\"quantiles\",return_index=True, show_progress_bar=True)\n",
    "q_predictions = raw_predictions.numpy()\n",
    "np.save(os.path.join(RESULT_PATH, 'predictions', 'nhits_raw_predictions.npy'), q_predictions)\n",
    "index.to_feather(os.path.join(RESULT_PATH, 'predictions', 'nhits_prediction_index.feather'))"
   ]
  },
  {
   "cell_type": "code",
   "execution_count": null,
   "id": "fbec6580",
   "metadata": {},
   "outputs": [],
   "source": [
    "q_predictions = np.load(os.path.join(RESULT_PATH, 'predictions', 'nhits_raw_predictions.npy'))\n",
    "index = pd.read_feather(os.path.join(RESULT_PATH, 'predictions', 'nhits_prediction_index.feather'))"
   ]
  },
  {
   "cell_type": "code",
   "execution_count": null,
   "id": "6eeb5a2b-3e62-4919-b194-b36648649464",
   "metadata": {
    "tags": []
   },
   "outputs": [],
   "source": [
    "from utils import predictions_to_df\n",
    "\n",
    "predictions_df = predictions_to_df(index, np.transpose(q_predictions, (2, 1, 0))[3], ['proj_id'], TIME_IDX, LEAD)\n",
    "for q_idx, q_name in [(0, '02'), (1, '10'), (2, '25'), (4, '75'), (5, '90'), (6, '98')]:\n",
    "    q_df = predictions_to_df(index, np.transpose(q_predictions, (2, 1, 0))[q_idx], ['proj_id'], TIME_IDX, LEAD)\n",
    "    predictions_df[f'forecast_q{q_name}'] = q_df['forecast'].values\n",
    "predictions_df = predictions_df.reset_index().merge(test_df[['proj_id', 'time', 'gwl']], on=['proj_id', 'time'], how='left').set_index(['proj_id', 'time', 'horizon'])\n",
    "predictions_df.reset_index().to_feather(os.path.join(RESULT_PATH, 'predictions', 'tft_predictions.feather'))\n",
    "predictions_df"
   ]
  },
  {
   "cell_type": "markdown",
   "id": "dff3e23c",
   "metadata": {},
   "source": [
    "or load predictions"
   ]
  },
  {
   "cell_type": "code",
   "execution_count": null,
   "id": "1c645fc7-28d3-4569-b03f-580e300853ae",
   "metadata": {
    "tags": []
   },
   "outputs": [],
   "source": [
    "predictions_df = pd.read_feather(os.path.join(RESULT_PATH, 'predictions', 'nhits_predictions.feather')).set_index(['proj_id', 'time', 'horizon'])\n",
    "predictions_df"
   ]
  },
  {
   "cell_type": "code",
   "execution_count": null,
   "id": "464fc3c0-c24a-4c5c-88a9-6d2f6541621e",
   "metadata": {
    "tags": []
   },
   "outputs": [],
   "source": [
    "from utils import plot_predictions\n",
    "\n",
    "plot_predictions(predictions_df, 'BB_26471092', horizon=8, confidence=('forecast_q10', 'forecast_q90'))"
   ]
  },
  {
   "cell_type": "markdown",
   "id": "1fa5920c-8ce7-4d6c-ad6b-9d87530aff70",
   "metadata": {
    "tags": []
   },
   "source": [
    "### Metrics"
   ]
  },
  {
   "cell_type": "code",
   "execution_count": null,
   "id": "178faadf-00ec-4828-85f3-5868aa35c3fb",
   "metadata": {
    "tags": []
   },
   "outputs": [],
   "source": [
    "from utils import get_metrics\n",
    "\n",
    "metrics_df = get_metrics(predictions_df.dropna())\n",
    "metrics_df.reset_index().to_feather(os.path.join(RESULT_PATH, 'metrics', 'nhits_metrics.feather'))\n",
    "metrics_df"
   ]
  },
  {
   "cell_type": "code",
   "execution_count": null,
   "id": "359f46e1",
   "metadata": {},
   "outputs": [],
   "source": [
    "metrics_df = pd.read_feather(os.path.join(RESULT_PATH, 'metrics', 'nhits_metrics.feather')).set_index(['proj_id', 'horizon'])\n",
    "metrics_df"
   ]
  }
 ],
 "metadata": {
  "kernelspec": {
   "display_name": "Python 3 (ipykernel)",
   "language": "python",
   "name": "python3"
  },
  "language_info": {
   "codemirror_mode": {
    "name": "ipython",
    "version": 3
   },
   "file_extension": ".py",
   "mimetype": "text/x-python",
   "name": "python",
   "nbconvert_exporter": "python",
   "pygments_lexer": "ipython3",
   "version": "3.8.10"
  }
 },
 "nbformat": 4,
 "nbformat_minor": 5
}
